{
 "cells": [
  {
   "attachments": {},
   "cell_type": "markdown",
   "metadata": {
    "pycharm": {
     "name": "#%% md\n"
    }
   },
   "source": [
    "### Initialization"
   ]
  },
  {
   "cell_type": "code",
   "execution_count": 8,
   "metadata": {
    "pycharm": {
     "name": "#%%\n"
    }
   },
   "outputs": [],
   "source": [
    "# built-in\n",
    "import time\n",
    "from datetime import datetime\n",
    "import json\n",
    "import re\n",
    "\n",
    "# third-party\n",
    "import bitalino\n",
    "import serial\n",
    "import scientisst\n",
    "import numpy as np"
   ]
  },
  {
   "cell_type": "code",
   "execution_count": 9,
   "metadata": {
    "pycharm": {
     "name": "#%%\n"
    }
   },
   "outputs": [],
   "source": [
    "# Initiate variables\n",
    "\n",
    "timeout = 120\n",
    "batch_size = 100\n",
    "sampling_rate = 10\n",
    "\n",
    "arduino_pattern = re.compile(r'\\d+\\n') # pattern to make sure the message received from the serial port is in the format \"{value}\\n\"\n",
    "\n",
    "bitalino_args = {\"mac_address\": \"98:D3:61:FD:6E:27\", \"sampling_rate\": sampling_rate, \"channels\": [0, 1, 2, 3, 4, 5], \"batch_size\": batch_size}\n",
    "scientisst_args = {\"mac_address\": \"COM3\", \"sampling_rate\": sampling_rate, \"channels\": [1, 2, 3, 4, 5, 6], \"batch_size\": batch_size}\n",
    "arduino_args = {\"port\": \"COM7\", \"sampling_rate\": sampling_rate, \"batch_size\": batch_size}"
   ]
  },
  {
   "attachments": {},
   "cell_type": "markdown",
   "metadata": {
    "pycharm": {
     "name": "#%% md\n"
    }
   },
   "source": [
    "### Define auxiliary functions"
   ]
  },
  {
   "cell_type": "code",
   "execution_count": 10,
   "metadata": {
    "pycharm": {
     "name": "#%%\n"
    }
   },
   "outputs": [
    {
     "name": "stdout",
     "output_type": "stream",
     "text": [
      "Chosen port is not available. Choose one of the following ports:\n",
      "    * COM4\n",
      "    * COM3\n",
      "    * COM5\n",
      "    * COM6\n",
      "    * COM7\n"
     ]
    },
    {
     "data": {
      "text/plain": "<__main__.SerialPortUnavailable at 0x1c8fd16fa00>"
     },
     "execution_count": 10,
     "metadata": {},
     "output_type": "execute_result"
    }
   ],
   "source": [
    "# Define SerialPortUnavailable exception\n",
    "from serial.tools import list_ports\n",
    "\n",
    "class SerialPortUnavailable():\n",
    "\n",
    "    def __init__(self):\n",
    "        print(\"Chosen port is not available. Choose one of the following ports:\")\n",
    "        for port in list_ports.comports():\n",
    "            print(f\"    * {port.name}\")\n",
    "\n",
    "\n",
    "SerialPortUnavailable()"
   ]
  },
  {
   "cell_type": "code",
   "execution_count": 11,
   "metadata": {
    "pycharm": {
     "name": "#%%\n"
    }
   },
   "outputs": [],
   "source": [
    "# Define class that hold all setup informations about the acquisition\n",
    "\n",
    "class Acquisition:\n",
    "\n",
    "    def __init__(self, start_time, file):\n",
    "        \n",
    "        self.sampling_rate = sampling_rate\n",
    "        self.keep_alive = True\n",
    "        self.devices_started = False\n",
    "        self.bitalino_args = bitalino_args\n",
    "        self.scientisst_args = scientisst_args\n",
    "        self.arduino_args = arduino_args\n",
    "        self.start_time = start_time\n",
    "        self.file = file\n"
   ]
  },
  {
   "cell_type": "code",
   "execution_count": 12,
   "metadata": {
    "pycharm": {
     "name": "#%%\n"
    }
   },
   "outputs": [],
   "source": [
    "# Define function that creates file header \n",
    "\n",
    "def get_header(acquisition):\n",
    "\n",
    "    scientisst_channels = \"\"\n",
    "    for channel in acquisition.scientisst_args[\"channels\"]:\n",
    "        scientisst_channels += f\"\\tscientisst_raw_AI{channel}\"\n",
    "    \n",
    "    bitalino_channels = \"\"\n",
    "    for channel in acquisition.bitalino_args[\"channels\"]:\n",
    "        bitalino_channels += f\"\\tbitalino_raw_A{channel}\"\n",
    "\n",
    "    return f\"#scientisst_nseq{scientisst_channels}bitalino_nseq{bitalino_channels}\\tarduino_raw\""
   ]
  },
  {
   "attachments": {},
   "cell_type": "markdown",
   "metadata": {
    "pycharm": {
     "name": "#%% md\n"
    }
   },
   "source": [
    "### Define functions for device connection"
   ]
  },
  {
   "cell_type": "code",
   "execution_count": 13,
   "metadata": {
    "pycharm": {
     "name": "#%%\n"
    }
   },
   "outputs": [],
   "source": [
    "def connect_bitalino(mac_address):\n",
    "\n",
    "    init_connect_time = time.time()\n",
    "    print(f'Searching for BITalino... {mac_address}')\n",
    "\n",
    "    while True:\n",
    "\n",
    "        if (time.time() - init_connect_time) > timeout:\n",
    "            print(f\"    Timeout for BITalino device connection\")\n",
    "            raise Exception\n",
    "\n",
    "        try:\n",
    "            device = bitalino.BITalino(mac_address)\n",
    "            if device.macAddress:\n",
    "                print(\"Connected!\")\n",
    "                break\n",
    "\n",
    "        except Exception as e:\n",
    "            print(e)\n",
    "            continue\n",
    "\n",
    "    return device"
   ]
  },
  {
   "cell_type": "code",
   "execution_count": 8,
   "metadata": {
    "pycharm": {
     "name": "#%%\n"
    }
   },
   "outputs": [],
   "source": [
    "def connect_scientisst1(mac_address):\n",
    "    init_connect_time = time.time()\n",
    "    print(f'Searching for ScientISST... {mac_address}')\n",
    "\n",
    "    while True:\n",
    "\n",
    "        if (time.time() - init_connect_time) > timeout:\n",
    "            print(f\"    Timeout for ScientISST device connection\")\n",
    "            raise Exception\n",
    "\n",
    "        try:\n",
    "            device = scientisst.ScientISST(mac_address)\n",
    "            if device.address:\n",
    "                break\n",
    "\n",
    "        except Exception as e:\n",
    "            print(e)\n",
    "            continue\n",
    "\n",
    "    return device"
   ]
  },
  {
   "cell_type": "code",
   "execution_count": 6,
   "outputs": [],
   "source": [
    "def connect_scientisst(mac_address):\n",
    "    print(\"here\")\n",
    "    pass\n",
    "    device = scientisst.ScientISST(mac_address)\n"
   ],
   "metadata": {
    "collapsed": false,
    "pycharm": {
     "name": "#%%\n"
    }
   }
  },
  {
   "cell_type": "code",
   "execution_count": 22,
   "metadata": {
    "pycharm": {
     "name": "#%%\n"
    }
   },
   "outputs": [],
   "source": [
    "def connect_arduino(port):\n",
    "    init_connect_time = time.time()\n",
    "    print(f'Searching for Arduino... {port}')\n",
    "\n",
    "    while True:\n",
    "\n",
    "        if (time.time() - init_connect_time) > timeout:\n",
    "            print(f\"    Timeout for Arduino device connection\")\n",
    "            raise Exception\n",
    "\n",
    "        try:\n",
    "            device = serial.Serial(port, baudrate=115200, timeout=0)\n",
    "            print(\"Connected!\")\n",
    "            break\n",
    "\n",
    "        except Exception as e:\n",
    "            print(e)\n",
    "            continue\n",
    "\n",
    "    return device    "
   ]
  },
  {
   "attachments": {},
   "cell_type": "markdown",
   "metadata": {
    "pycharm": {
     "name": "#%% md\n"
    }
   },
   "source": [
    "### Define functions to start and read devices"
   ]
  },
  {
   "cell_type": "code",
   "execution_count": 23,
   "metadata": {
    "pycharm": {
     "name": "#%%\n"
    }
   },
   "outputs": [],
   "source": [
    "def start_devices(bitalino_device, scientisst_device, acquisition):\n",
    "\n",
    "    bitalino_device.start(SamplingRate=acquisition.bitalino_args[\"sampling_rate\"], analogChannels=acquisition.bitalino_args[\"channels\"])\n",
    "    scientisst_device.start(sample_rate=acquisition.scientisst_args[\"sampling_rate\"], channels=acquisition.scientisst_args[\"channels\"])  \n",
    "    arduino_device = connect_arduino(arduino_args[\"port\"])\n",
    "    \n",
    "    return arduino_device"
   ]
  },
  {
   "cell_type": "code",
   "execution_count": 24,
   "metadata": {
    "pycharm": {
     "name": "#%%\n"
    }
   },
   "outputs": [],
   "source": [
    "def read_batch(bitalino_device, scientisst_device, arduino_device, acquisition):\n",
    "    \n",
    "    try: \n",
    "        \n",
    "        scientisst_data = scientisst_device.read(matrix=True)\n",
    "        scientisst_data = np.take(scientisst_data,[0]+[*range(-2, -len(acquisition.scientisst_args[\"channels\"])*2-2, -2)], axis=1)\n",
    "        bitalino_data = bitalino_device.read(scientisst_data.shape[0])\n",
    "        bitalino_data = np.take(bitalino_data,[0]+[*range(-1, -len(acquisition.bitalino_args[\"channels\"])-1, -1)], axis=1)\n",
    "\n",
    "        arduino_data = []\n",
    "        arduino_message = \"\"\n",
    "        match = None\n",
    "\n",
    "        while len(arduino_data) < scientisst_data.shape[0]:\n",
    "            arduino_bytes = arduino_device.readline().decode() # read message from arduino \n",
    "\n",
    "            if arduino_bytes != arduino_message:\n",
    "                arduino_message = arduino_message + arduino_bytes # in case the full line comes in different messages, concatenate it\n",
    "                match = arduino_pattern.search(arduino_message) # make sure the message received from the serial port is in the format \"{value}\\n\"\n",
    "\n",
    "            if match is not None: \n",
    "                arduino_data += [[int(match.group().strip())]]\n",
    "                arduino_message = \"\"\n",
    "                \n",
    "        #print(f\"bitalino data:\\n{bitalino_data}\")\n",
    "        #print(f\"\\n\\nscientisst data:\\n{scientisst_data}\")\n",
    "        #print(f\"\\n\\narduino data:\\n{np.array(arduino_data)}\")\n",
    "    \n",
    "        data = np.hstack((scientisst_data, np.array(arduino_data)))\n",
    "        print(data)\n",
    "\n",
    "        np.savetxt(acquisition.file, data, fmt='\\t'.join(['%d']*data.shape[1]))\n",
    "        \n",
    "    except Exception as e:\n",
    "        print(e)\n"
   ]
  },
  {
   "attachments": {},
   "cell_type": "markdown",
   "metadata": {
    "pycharm": {
     "name": "#%% md\n"
    }
   },
   "source": [
    "### Main script"
   ]
  },
  {
   "cell_type": "code",
   "execution_count": null,
   "metadata": {
    "pycharm": {
     "name": "#%%\n"
    }
   },
   "outputs": [
    {
     "name": "stdout",
     "output_type": "stream",
     "text": [
      "here\n",
      "Connecting to COM6...\n"
     ]
    }
   ],
   "source": [
    "try: \n",
    "    \n",
    "    now = datetime.now()\n",
    "    file = open(f\"D:\\\\Projects\\\\respiration-sensor\\\\respiration-sensor\\\\resources\\\\sample_{now.strftime('%d-%m-%Y_%H-%M-%S')}.txt\",\"w\")\n",
    "    acquisition = Acquisition(time.time(), file)\n",
    "\n",
    "    file.write(get_header(acquisition))\n",
    "\n",
    "    # Connect devices\n",
    "\n",
    "    scientisst_device = connect_scientisst(scientisst_args[\"mac_address\"])\n",
    "    bitalino_device = connect_bitalino(bitalino_args[\"mac_address\"])\n",
    "    arduino_device = None # This device does not require connection prior to acquisition start\n",
    "\n",
    "except Exception as e:\n",
    "    print(e)\n",
    "    print(f\"Script terminated before acquisition was started\")\n",
    "    acquisition.keep_alive = False\n",
    "\n",
    "try: \n",
    "\n",
    "    while acquisition.keep_alive:\n",
    "        \n",
    "        if not acquisition.devices_started: \n",
    "            # If the devices have not yet started acquiring or they are paused, start acquisition\n",
    "            try:\n",
    "                arduino_device = start_devices(bitalino_device, scientisst_device, acquisition)\n",
    "                acquisition.devices_started = True\n",
    "\n",
    "            except Exception as e:\n",
    "                print(e)\n",
    "                pass\n",
    "        \n",
    "        else:\n",
    "            read_batch(bitalino_device, scientisst_device, arduino_device, acquisition)\n",
    "\n",
    "except KeyboardInterrupt:\n",
    "    bitalino_device.stop()\n",
    "    scientisst_device.stop()\n",
    "    arduino_device.close()\n",
    "    file.close()\n",
    "    print(f\"\\n\\nAcquisition terminated\")\n"
   ]
  },
  {
   "cell_type": "code",
   "execution_count": 7,
   "outputs": [
    {
     "name": "stdout",
     "output_type": "stream",
     "text": [
      "here\n",
      "Connecting to COM3...\n",
      "ScientISST version: 1.0\n",
      "ScientISST Board Vref: 1114\n",
      "ScientISST Board ADC Attenuation Mode: 0\n",
      "Connected!\n"
     ]
    }
   ],
   "source": [
    "scientisst_args = {\"mac_address\": \"COM3\", \"sampling_rate\": sampling_rate, \"channels\": [1, 2, 3, 4, 5, 6], \"batch_size\": batch_size}\n",
    "\n",
    "scientisst_device = connect_scientisst(scientisst_args[\"mac_address\"])\n"
   ],
   "metadata": {
    "collapsed": false,
    "pycharm": {
     "name": "#%%\n"
    }
   }
  },
  {
   "cell_type": "code",
   "execution_count": null,
   "outputs": [],
   "source": [],
   "metadata": {
    "collapsed": false,
    "pycharm": {
     "name": "#%%\n"
    }
   }
  },
  {
   "cell_type": "code",
   "execution_count": null,
   "outputs": [],
   "source": [],
   "metadata": {
    "collapsed": false,
    "pycharm": {
     "name": "#%%\n"
    }
   }
  }
 ],
 "metadata": {
  "kernelspec": {
   "name": "venv",
   "language": "python",
   "display_name": "Python 3.8 Respiration Sensor"
  },
  "language_info": {
   "codemirror_mode": {
    "name": "ipython",
    "version": 3
   },
   "file_extension": ".py",
   "mimetype": "text/x-python",
   "name": "python",
   "nbconvert_exporter": "python",
   "pygments_lexer": "ipython3",
   "version": "3.9.15"
  },
  "orig_nbformat": 4,
  "vscode": {
   "interpreter": {
    "hash": "79299d566563c8b9aab4e3d06af8504a8e5a1d4b54f56dd59d7e1cae69abea4c"
   }
  }
 },
 "nbformat": 4,
 "nbformat_minor": 2
}