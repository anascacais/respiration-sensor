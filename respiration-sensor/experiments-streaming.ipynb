{
 "cells": [
  {
   "attachments": {},
   "cell_type": "markdown",
   "metadata": {},
   "source": [
    "### Initialization"
   ]
  },
  {
   "cell_type": "code",
   "execution_count": 77,
   "metadata": {},
   "outputs": [],
   "source": [
    "# built-in\n",
    "import time\n",
    "from datetime import datetime\n",
    "import json\n",
    "import re\n",
    "\n",
    "# third-party\n",
    "import bitalino\n",
    "import serial\n",
    "import scientisst"
   ]
  },
  {
   "cell_type": "code",
   "execution_count": 78,
   "metadata": {},
   "outputs": [],
   "source": [
    "# Initiate variables\n",
    "\n",
    "timeout = 120\n",
    "batch_size = 100\n",
    "sampling_rate = 10\n",
    "\n",
    "arduino_pattern = re.compile(r'\\d+,\\d\\n') # pattern to make sure the message received from the serial port is in the format \"{value}\\n\"\n",
    "\n",
    "bitalino_args = {\"mac_address\": \"/dev/tty.BITalino-6E-27\", \"sampling_rate\": sampling_rate, \"channels\": [0, 1, 2, 3, 4, 5], \"batch_size\": batch_size}\n",
    "scientisst_args = {\"mac_address\": \"/dev/cu.ScientISST-54-96\", \"sampling_rate\": sampling_rate, \"channels\": [1, 2, 3, 4, 5, 6], \"batch_size\": batch_size}\n",
    "arduino_args = {\"port\": \"/dev/cu.usbmodem12201\", \"sampling_rate\": sampling_rate, \"batch_size\": batch_size}"
   ]
  },
  {
   "attachments": {},
   "cell_type": "markdown",
   "metadata": {},
   "source": [
    "### Define auxiliary functions"
   ]
  },
  {
   "cell_type": "code",
   "execution_count": 79,
   "metadata": {},
   "outputs": [
    {
     "name": "stdout",
     "output_type": "stream",
     "text": [
      "Chosen port is not available. Choose one of the following ports:\n",
      "    * cu.wlan-debug\n",
      "    * cu.Bluetooth-Incoming-Port\n",
      "    * cu.ScientISST-1D-4A\n",
      "    * cu.ScientISST-54-96\n",
      "    * cu.usbmodem12201\n"
     ]
    },
    {
     "data": {
      "text/plain": [
       "<__main__.SerialPortUnavailable at 0x10c70a220>"
      ]
     },
     "execution_count": 79,
     "metadata": {},
     "output_type": "execute_result"
    }
   ],
   "source": [
    "# Define SerialPortUnavailable exception\n",
    "from serial.tools import list_ports\n",
    "\n",
    "class SerialPortUnavailable():\n",
    "\n",
    "    def __init__(self):\n",
    "        print(\"Chosen port is not available. Choose one of the following ports:\")\n",
    "        for port in list_ports.comports():\n",
    "            print(f\"    * {port.name}\")\n",
    "\n",
    "\n",
    "SerialPortUnavailable()"
   ]
  },
  {
   "cell_type": "code",
   "execution_count": 80,
   "metadata": {},
   "outputs": [],
   "source": [
    "# Define class that hold all setup informations about the acquisition\n",
    "\n",
    "class Acquisition:\n",
    "\n",
    "    def __init__(self, start_time):\n",
    "        \n",
    "        self.sampling_rate = sampling_rate\n",
    "        self.keep_alive = True\n",
    "        self.devices_started = False\n",
    "        self.bitalino_args = bitalino_args\n",
    "        self.scientisst_args = scientisst_args\n",
    "        self.arduino_args = arduino_args\n",
    "        self.start_time = start_time\n"
   ]
  },
  {
   "attachments": {},
   "cell_type": "markdown",
   "metadata": {},
   "source": [
    "### Define functions for device connection"
   ]
  },
  {
   "cell_type": "code",
   "execution_count": 81,
   "metadata": {},
   "outputs": [],
   "source": [
    "def connect_bitalino(mac_address):\n",
    "\n",
    "    init_connect_time = time.time()\n",
    "    print(f'Searching for BITalino... {mac_address}')\n",
    "\n",
    "    while True:\n",
    "\n",
    "        if (time.time() - init_connect_time) > timeout:\n",
    "            print(f\"    Timeout for BITalino device connection\")\n",
    "            raise Exception\n",
    "\n",
    "        try:\n",
    "            device = bitalino.BITalino(mac_address)\n",
    "            if device.macAddress:\n",
    "                break\n",
    "\n",
    "        except Exception as e:\n",
    "            print(e)\n",
    "            continue\n",
    "\n",
    "    return device"
   ]
  },
  {
   "cell_type": "code",
   "execution_count": 82,
   "metadata": {},
   "outputs": [],
   "source": [
    "def connect_scientisst(mac_address):\n",
    "    init_connect_time = time.time()\n",
    "    print(f'Searching for ScientISST... {mac_address}')\n",
    "\n",
    "    while True:\n",
    "\n",
    "        if (time.time() - init_connect_time) > timeout:\n",
    "            print(f\"    Timeout for ScientISST device connection\")\n",
    "            raise Exception\n",
    "\n",
    "        try:\n",
    "            device = scientisst.ScientISST(mac_address)\n",
    "            if device.address:\n",
    "                break\n",
    "\n",
    "        except Exception as e:\n",
    "            print(e)\n",
    "            continue\n",
    "\n",
    "    return device"
   ]
  },
  {
   "cell_type": "code",
   "execution_count": 83,
   "metadata": {},
   "outputs": [],
   "source": [
    "def connect_arduino(port):\n",
    "    init_connect_time = time.time()\n",
    "    print(f'Searching for Arduino... {port}')\n",
    "\n",
    "    while True:\n",
    "\n",
    "        if (time.time() - init_connect_time) > timeout:\n",
    "            print(f\"    Timeout for Arduino device connection\")\n",
    "            raise Exception\n",
    "\n",
    "        try:\n",
    "            device = serial.Serial(port, baudrate=115200, timeout=0)\n",
    "            print(\"Connected!\")\n",
    "            break\n",
    "\n",
    "        except Exception as e:\n",
    "            print(e)\n",
    "            continue\n",
    "\n",
    "    return device    "
   ]
  },
  {
   "attachments": {},
   "cell_type": "markdown",
   "metadata": {},
   "source": [
    "### Define functions to start and read devices"
   ]
  },
  {
   "cell_type": "code",
   "execution_count": 84,
   "metadata": {},
   "outputs": [],
   "source": [
    "def start_devices(bitalino_device, scientisst_device, acquisition):\n",
    "\n",
    "    #bitalino_device.start(SamplingRate=acquisition.bitalino_args[\"sampling_rate\"], analogChannels=acquisition.bitalino_args[\"channels\"])\n",
    "    scientisst_device.start(sample_rate=acquisition.scientisst_args[\"sampling_rate\"], channels=acquisition.scientisst_args[\"channels\"])  \n",
    "    arduino_device = connect_arduino(arduino_args[\"port\"])\n",
    "    \n",
    "    return arduino_device"
   ]
  },
  {
   "cell_type": "code",
   "execution_count": 85,
   "metadata": {},
   "outputs": [],
   "source": [
    "def read_batch(bitalino_device, scientisst_device, arduino_device, acquisition):\n",
    "    \n",
    "    #bitalino_data = bitalino_device.read(acquisition.bitalino_args[\"batch_size\"])\n",
    "    scientisst_data = scientisst_device.read(matrix=True)\n",
    "\n",
    "    arduino_data = []\n",
    "    arduino_message = \"\"\n",
    "\n",
    "    arduino_bytes = arduino_device.readline()\n",
    "    if arduino_bytes != b\"\":\n",
    "        arduino_data = arduino_bytes.decode()\n",
    "\n",
    "\n",
    "    while len(arduino_data) < scientisst_data.shape[0]:\n",
    "        arduino_bytes = arduino_device.readline() # read message from arduino and decode it from bytes to string\n",
    "        \n",
    "        if arduino_bytes != arduino_message:\n",
    "            arduino_message = arduino_message + arduino_bytes.decode() # in case the full line comes in different messages, concatenate it\n",
    "            match = arduino_pattern.search(arduino_message) # make sure the message received from the serial port is in the format \"{value}\\n\"\n",
    "\n",
    "        if match is not None: \n",
    "            arduino_data += [match.group().strip()]\n",
    "\n",
    "    print(f\"scientisst data:\\n{scientisst_data}\")\n",
    "    print(f\"\\n\\narduino data:\\n{arduino_data}\")\n"
   ]
  },
  {
   "attachments": {},
   "cell_type": "markdown",
   "metadata": {},
   "source": [
    "### Main script"
   ]
  },
  {
   "cell_type": "code",
   "execution_count": 86,
   "metadata": {},
   "outputs": [
    {
     "name": "stdout",
     "output_type": "stream",
     "text": [
      "Searching for ScientISST... /dev/cu.ScientISST-54-96\n",
      "Connecting to /dev/cu.ScientISST-54-96...\n",
      "ScientISST version: 1.0\n",
      "ScientISST Board Vref: 1114\n",
      "ScientISST Board ADC Attenuation Mode: 0\n",
      "Connected!\n",
      "Searching for Arduino... /dev/cu.usbmodem12201\n",
      "Connected!\n",
      "2\n",
      "scientisst data:\n",
      "[[  0   0   0   0   0   0 254   0 254   0 254   0 254   0 254   0 254]\n",
      " [  1   0   0   0   0   0 254   0 254   0 254   0 254   0 254   0 254]]\n",
      "\n",
      "\n",
      "arduino data:\n",
      "[]\n",
      "2\n",
      "scientisst data:\n",
      "[[  2   0   0   0   0   0 254   0 254   0 254   0 254   0 254   0 254]\n",
      " [  3   0   0   0   0   0 254   0 254   0 254   0 254   0 254   0 254]]\n",
      "\n",
      "\n",
      "arduino data:\n",
      "[]\n",
      "2\n",
      "scientisst data:\n",
      "[[  4   0   0   0   0   0 254   0 254   0 254   0 254   0 254   0 254]\n",
      " [  5   0   0   0   0   0 254   0 254   0 254   0 254   0 254   0 254]]\n",
      "\n",
      "\n",
      "arduino data:\n",
      "[]\n",
      "2\n",
      "scientisst data:\n",
      "[[  6   0   0   0   0   0 254   0 254   0 254   0 254   0 254   0 254]\n",
      " [  7   0   0   0   0   0 254   0 254   0 254   0 254   0 254   0 254]]\n",
      "\n",
      "\n",
      "arduino data:\n",
      "[]\n",
      "2\n",
      "scientisst data:\n",
      "[[  8   0   0   0   0   0 254   0 254   0 254   0 254   0 254   0 254]\n",
      " [  9   0   0   0   0   0 254   0 254   0 254   0 254   0 254   0 254]]\n",
      "\n",
      "\n",
      "arduino data:\n",
      "[]\n",
      "2\n",
      "scientisst data:\n",
      "[[ 10   0   0   0   0   0 254   0 254   0 254   0 254   0 254   0 254]\n",
      " [ 11   0   0   0   0   0 254   0 254   0 254   0 254   0 254   0 254]]\n",
      "\n",
      "\n",
      "arduino data:\n",
      "[]\n",
      "Acquisition terminated\n"
     ]
    }
   ],
   "source": [
    "try: \n",
    "    \n",
    "    now = datetime.now()\n",
    "    file = open(f\"/Users/anasofiacc/Library/CloudStorage/OneDrive-UniversidadedeLisboa/PhD/Clynx project/Respiration sensor/magnetometer/code/sample_{now.strftime('%d-%m-%Y_%H-%M-%S')}.txt\",\"w\")\n",
    "    acquisition = Acquisition(time.time(), file)\n",
    "\n",
    "    # Connect devices\n",
    "    scientisst_device = connect_scientisst(scientisst_args[\"mac_address\"])\n",
    "    #bitalino_device = connect_bitalino(bitalino_args[\"mac_address\"])\n",
    "    bitalino_device = None\n",
    "    arduino_device = None\n",
    "\n",
    "except KeyboardInterrupt:\n",
    "    print(f\"Script terminated before acquisition was started\")\n",
    "    acquisition.keep_alive = False\n",
    "\n",
    "try: \n",
    "\n",
    "    while acquisition.keep_alive == True:\n",
    "        \n",
    "        if not acquisition.devices_started: \n",
    "            # If the devices have not yet started acquiring or they are paused, start acquisition\n",
    "            try:\n",
    "                arduino_device = start_devices(bitalino_device, scientisst_device, acquisition)\n",
    "                acquisition.devices_started = True\n",
    "\n",
    "            except Exception as e:\n",
    "                print(e)\n",
    "                pass\n",
    "        \n",
    "        else:\n",
    "            read_batch(bitalino_device, scientisst_device, arduino_device, acquisition)\n",
    "\n",
    "except KeyboardInterrupt:\n",
    "    #bitalino_device.stop()\n",
    "    scientisst_device.stop()\n",
    "    arduino_device.close()\n",
    "    print(f\"Acquisition terminated\")\n"
   ]
  },
  {
   "cell_type": "code",
   "execution_count": null,
   "metadata": {},
   "outputs": [],
   "source": []
  }
 ],
 "metadata": {
  "kernelspec": {
   "display_name": "envepibox",
   "language": "python",
   "name": "python3"
  },
  "language_info": {
   "codemirror_mode": {
    "name": "ipython",
    "version": 3
   },
   "file_extension": ".py",
   "mimetype": "text/x-python",
   "name": "python",
   "nbconvert_exporter": "python",
   "pygments_lexer": "ipython3",
   "version": "3.9.15"
  },
  "orig_nbformat": 4,
  "vscode": {
   "interpreter": {
    "hash": "79299d566563c8b9aab4e3d06af8504a8e5a1d4b54f56dd59d7e1cae69abea4c"
   }
  }
 },
 "nbformat": 4,
 "nbformat_minor": 2
}
