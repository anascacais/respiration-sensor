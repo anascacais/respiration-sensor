{
    "cells": [
        {
            "cell_type": "markdown",
            "metadata": {},
            "source": [
                "### Define functions for sensor streaming"
            ]
        },
        {
            "cell_type": "code",
            "execution_count": 1,
            "metadata": {
                "tags": []
            },
            "outputs": [],
            "source": [
                "# Define SerialPortUnavailable exception\n",
                "\n",
                "from serial.tools import list_ports\n",
                "\n",
                "# Create Exception for serial port unavailable (explained at the end of the section)\n",
                "class SerialPortUnavailable():\n",
                "\n",
                "    def __init__(self):\n",
                "        print(\"Chosen port is not available. Choose one of the following ports:\")\n",
                "        for port in list_ports.comports():\n",
                "            print(f\"    * {port.name}\")"
            ]
        },
        {
            "cell_type": "code",
            "execution_count": 2,
            "metadata": {},
            "outputs": [],
            "source": [
                "# Create streaming function\n",
                "\n",
                "from datetime import datetime\n",
                "import biosppy as bp\n",
                "import serial\n",
                "import re\n",
                "\n",
                "def stream(port, file_path=None, cutoff_freq=4, sampling_rate=10):\n",
                "\n",
                "    # Compute digital (FIR or IIR) filter coefficients with the given parameters\n",
                "    coeffs_b, coeffs_a = bp.signals.tools.get_filter(ftype=\"FIR\", band=\"lowpass\", order=8, frequency=cutoff_freq, sampling_rate=sampling_rate,)\n",
                "    # Create online filter object\n",
                "    online_filter = bp.signals.tools.OnlineFilter(coeffs_b, coeffs_a)\n",
                "\n",
                "    # Open new file every time to save raw and filtered data\n",
                "    if file_path is None:\n",
                "        now = datetime.now()\n",
                "        file_path = f'./sample_{now.strftime(\"%d-%m-%Y_%H-%M-%S\")}.txt'\n",
                "    f = open(file_path, 'a')\n",
                "\n",
                "    pattern = re.compile(r'\\d+,\\d+,\\d\\n') # pattern to make sure the message received from the serial port is in the format \"{value},{value}\\n\"\n",
                "    message = \"\"\n",
                "\n",
                "    try:\n",
                "        with serial.Serial(port, baudrate=9600, timeout=0) as arduino: # initiate serial communication\n",
                "            \n",
                "            try:\n",
                "\n",
                "                while True:\n",
                "                    arduino_bytes = arduino.readline() # read message from arduino and decode it from bytes to string\n",
                "                    \n",
                "                    if arduino_bytes != message:\n",
                "                        message = message + arduino_bytes.decode() # in case the full line comes in different messages, concatenate it\n",
                "\n",
                "                    match = pattern.search(message) # make sure the message received from the serial port is in the format \"{value},{value}\\n\"\n",
                "                    if match is not None: \n",
                "                    \n",
                "                        print(f\"complete message: {match.group().strip()}\")\n",
                "                        message = \"\"\n",
                "\n",
                "                        try:\n",
                "                            matched_message = match.group().strip()\n",
                "                            parsed_time = matched_message.split(\",\")[0] # parse timestamp\n",
                "                            parsed_data = [int(matched_message.split(\",\")[1])] # parse signal data point\n",
                "                            parsed_annot = matched_message.split(\",\")[2] # parse pushbuton annotations\n",
                "                            filtered_data = online_filter.filter(parsed_data)[\"filtered\"] # pass the signal data point to the online filter\n",
                "                            f.write(f\"{parsed_time},{parsed_data[0]},{filtered_data[0]},{parsed_annot}\\n\") # write all to file\n",
                "\n",
                "                        except Exception as e:\n",
                "                            print(f\"error: {e} | message: {matched_message}\")\n",
                "                            continue\n",
                "\n",
                "            except KeyboardInterrupt:\n",
                "                print(\"\\nAcquisition interrupted by you\")\n",
                "\n",
                "            except Exception as e:\n",
                "                print(e)\n",
                "\n",
                "            finally: # regardless of the exception that was raised, the following code will run\n",
                "                arduino.close()\n",
                "                f.close()\n",
                "                print('\\nSerial communication and file closed')\n",
                "\n",
                "    except serial.SerialException:\n",
                "        SerialPortUnavailable()\n",
                "        f.close()\n",
                "        import os\n",
                "        os.remove(file_path)\n",
                "\n"
            ]
        },
        {
            "cell_type": "markdown",
            "metadata": {},
            "source": [
                "### Define functions for visualization"
            ]
        },
        {
            "cell_type": "code",
            "execution_count": 3,
            "metadata": {},
            "outputs": [],
            "source": [
                "# Define function that deals with annotations\n",
                "\n",
                "def get_annot_data(data, annotation_labels, sampling_rate=10): \n",
                "\n",
                "    # Get pushbutton annotations and remove duplicates\n",
                "    annots = data.index[data['annot'] == True].tolist()\n",
                "\n",
                "    sampling_period = 1000/sampling_rate # in milliseconds\n",
                "    last_annot = -(sampling_period + 1)\n",
                "    annots_new = []\n",
                "\n",
                "    for annot in annots:\n",
                "        if annot != last_annot + sampling_period:\n",
                "            annots_new += [annot]\n",
                "        last_annot = annot\n",
                "\n",
                "    if (len(annots_new) % 2) != 0: annots_new.pop()\n",
                "\n",
                "    if len(annots_new)/2 > len(annotation_labels):\n",
                "        print(f\"Not enough annotation labels (expected {int(len(annots_new)/2)}, got {len(annotation_labels)})\")\n",
                "    elif len(annots_new)/2 < len(annotation_labels):\n",
                "        print(f\"Not enough annotations (expected {len(annotation_labels)}, got {int(len(annots_new)/2)})\")\n",
                "\n",
                "    if len(annots_new)/2 >= len(annotation_labels):\n",
                "        for i in range(1,len(annotation_labels)+1):\n",
                "            data.loc[annots_new[2*i-2]:annots_new[2*i-1], \"annot-label\"] = annotation_labels[i-1]\n",
                "    else:\n",
                "        for ii,i in enumerate(range(0,len(annots_new),2)):\n",
                "            data.loc[annots_new[i]:annots_new[i+1], \"annot-label\"] = annotation_labels[ii]\n",
                "\n",
                "    return annots_new, data"
            ]
        },
        {
            "cell_type": "code",
            "execution_count": 4,
            "metadata": {},
            "outputs": [],
            "source": [
                "# Create function to plot raw acquisition\n",
                "\n",
                "import plotly.express as px\n",
                "import pandas as pd\n",
                "\n",
                "color_palette=['#C98986', '#8B575C', '#7899D4', '#9EC1A3', '#1F363D'] \n",
                "\n",
                "def plot_data(data, remove_nan=False, to_plot=[\"raw\", \"filtered\"]):\n",
                "\n",
                "    if remove_nan:\n",
                "        data.loc[data['annot-label'].isna(), to_plot] = None\n",
                "    \n",
                "    fig = px.line(data, y=to_plot, labels = {\"index\":\"timestamps (ms)\", \"value\":\"raw\"}, color_discrete_sequence=color_palette)\n",
                "    \n",
                "    try:\n",
                "        annots = data['annot-label'].unique()\n",
                "\n",
                "        for a in annots:\n",
                "            if not pd.isna(a):\n",
                "                idx = data.index[data['annot-label'] == a].tolist()\n",
                "                fig.add_vrect(x0=idx[0], x1=idx[-1], \n",
                "                                annotation_text=a, annotation_position=\"top left\",\n",
                "                                fillcolor=\"black\", opacity=0.2, line_width=0)\n",
                "    except:\n",
                "        pass\n",
                "                            \n",
                "    fig.show()"
            ]
        },
        {
            "cell_type": "code",
            "execution_count": 5,
            "metadata": {},
            "outputs": [],
            "source": [
                "# Create function to make violin plot\n",
                "\n",
                "from plotly.subplots import make_subplots\n",
                "import plotly.graph_objects as go\n",
                "\n",
                "color_palette=['#C98986', '#8B575C', '#7899D4', '#9EC1A3', '#1F363D'] \n",
                "\n",
                "def plot_box(data, to_plot=\"filtered\", scaled=True):\n",
                "\n",
                "    data = data[data['annot-label'].notna()]\n",
                "    #fig = px.violin(data, y=to_plot, color=\"annot-label\", color_discrete_sequence=color_palette)\n",
                "    \n",
                "    annots = data['annot-label'].unique()\n",
                "    amplitudes = []\n",
                "\n",
                "    if scaled:\n",
                "        for a in annots:\n",
                "            data_a = data[data['annot-label'] == a][to_plot]\n",
                "            amplitudes += [(data_a.max() - data_a.min()).max()]\n",
                "        range = max(amplitudes)\n",
                "\n",
                "        fig = make_subplots(rows=1, cols=len(annots))\n",
                "\n",
                "        for i,a in enumerate(annots):\n",
                "            data_to_plot = data[data[\"annot-label\"]==a][to_plot]\n",
                "            fig.add_trace(go.Box(y=data_to_plot), row=1, col=(i+1))\n",
                "            add_to_range = (range - (data_to_plot.max()-data_to_plot.min()))/2\n",
                "            fig.update_yaxes(range=[data_to_plot.min()-add_to_range, data_to_plot.max()+add_to_range], row=1, col=(i+1))\n",
                "            fig.update_yaxes(range=[data[to_plot].min(), data[to_plot].max()], row=1, col=(i+1))\n",
                "            fig.update_traces(name=a, row=1, col=(i+1))\n",
                "    else: \n",
                "        fig = px.violin(data, y=to_plot, color=\"annot-label\", facet_col=\"annot-label\")\n",
                "                            \n",
                "    fig.show()"
            ]
        },
        {
            "cell_type": "markdown",
            "metadata": {},
            "source": [
                "### Data Streaming - Arduino"
            ]
        },
        {
            "cell_type": "code",
            "execution_count": null,
            "metadata": {},
            "outputs": [],
            "source": [
                "sampling_rate = 10 #Hz\n",
                "\n",
                "now = datetime.now()\n",
                "file_path = f'./sample_{now.strftime(\"%d-%m-%Y_%H-%M-%S\")}.txt'\n",
                "\n",
                "stream(port='/dev/cu.usbmodem101', file_path=file_path, cutoff_freq=4, sampling_rate=sampling_rate)"
            ]
        },
        {
            "cell_type": "code",
            "execution_count": null,
            "metadata": {},
            "outputs": [],
            "source": [
                "#file_path = \"./distance_25-11-2022_13-39-33.txt\"\n",
                "\n",
                "data = pd.read_csv(file_path, names=[\"raw\", \"filtered\",\"annot\"], index_col=0) # in this case, the time column is set as the index\n",
                "\n",
                "plot_data(data, remove_nan=False, to_plot=[\"raw\", \"filtered\"])"
            ]
        },
        {
            "cell_type": "markdown",
            "metadata": {},
            "source": [
                "### Data Streaming - Sense"
            ]
        },
        {
            "cell_type": "code",
            "execution_count": 10,
            "metadata": {},
            "outputs": [
                {
                    "name": "stdout",
                    "output_type": "stream",
                    "text": [
                        "Connecting to /dev/cu.ScientISST-54-96...\n",
                        "ScientISST version: 1.0\n",
                        "ScientISST Board Vref: 1114\n",
                        "ScientISST Board ADC Attenuation Mode: 0\n",
                        "Connected!\n",
                        "Start acquisition\n",
                        "Saving data to ./sense_09-01-2023_14-08-58.txt\n",
                        "NSeq\tI1\tI2\tO1\tO2\tAI1_raw\tAI1_mv\n"
                    ]
                },
                {
                    "name": "stderr",
                    "output_type": "stream",
                    "text": [
                        "Error checking CRC4Error checking CRC4Error checking CRC4Error checking CRC4Error checking CRC4Error checking CRC4Error checking CRC4Error checking CRC4Error checking CRC4Error checking CRC4Error checking CRC4Error checking CRC4Error checking CRC4Error checking CRC4Error checking CRC4Error checking CRC4Error checking CRC4Error checking CRC4Error checking CRC4Error checking CRC4Error checking CRC4Error checking CRC4Error checking CRC4Error checking CRC4Error checking CRC4Error checking CRC4Error checking CRC4Error checking CRC4Error checking CRC4Error checking CRC4Error checking CRC4Error checking CRC4Error checking CRC4Error checking CRC4Error checking CRC4Error checking CRC4Error checking CRC4Error checking CRC4Error checking CRC4Error checking CRC4Error checking CRC4Error checking CRC4Error checking CRC4Error checking CRC4Error checking CRC4Error checking CRC4Error checking CRC4Error checking CRC4Error checking CRC4Error checking CRC4Error checking CRC4Error checking CRC4Error checking CRC4Error checking CRC4Error checking CRC4Error checking CRC4Error checking CRC4"
                    ]
                },
                {
                    "name": "stdout",
                    "output_type": "stream",
                    "text": [
                        "Stop acquisition\n",
                        "Disconnected\n"
                    ]
                }
            ],
            "source": [
                "from sense import main\n",
                "from datetime import datetime\n",
                "\n",
                "now = datetime.now()\n",
                "\n",
                "address = \"/dev/cu.ScientISST-54-96\"\n",
                "channels = \"1\"\n",
                "fs = 10\n",
                "file_path = f'./sense_{now.strftime(\"%d-%m-%Y_%H-%M-%S\")}.txt'\n",
                "main(address, fs, channels, file_path)\n",
                "\n"
            ]
        },
        {
            "cell_type": "code",
            "execution_count": 9,
            "metadata": {},
            "outputs": [
                {
                    "ename": "ValueError",
                    "evalue": "The length of the input vector x must be greater than padlen, which is 27.",
                    "output_type": "error",
                    "traceback": [
                        "\u001b[0;31m---------------------------------------------------------------------------\u001b[0m",
                        "\u001b[0;31mValueError\u001b[0m                                Traceback (most recent call last)",
                        "\u001b[1;32m/Users/anasofiacc/dev/respiration-sensor/sensor-streaming.ipynb Cell 13\u001b[0m in \u001b[0;36m<cell line: 7>\u001b[0;34m()\u001b[0m\n\u001b[1;32m      <a href='vscode-notebook-cell:/Users/anasofiacc/dev/respiration-sensor/sensor-streaming.ipynb#X15sZmlsZQ%3D%3D?line=3'>4</a>\u001b[0m chn \u001b[39m=\u001b[39m \u001b[39m\"\u001b[39m\u001b[39m1\u001b[39m\u001b[39m\"\u001b[39m\n\u001b[1;32m      <a href='vscode-notebook-cell:/Users/anasofiacc/dev/respiration-sensor/sensor-streaming.ipynb#X15sZmlsZQ%3D%3D?line=5'>6</a>\u001b[0m data \u001b[39m=\u001b[39m pd\u001b[39m.\u001b[39mread_csv(file_path, skiprows\u001b[39m=\u001b[39m\u001b[39m1\u001b[39m, header\u001b[39m=\u001b[39m\u001b[39m0\u001b[39m, delimiter\u001b[39m=\u001b[39m\u001b[39m\"\u001b[39m\u001b[39m\\t\u001b[39;00m\u001b[39m\"\u001b[39m, skipfooter\u001b[39m=\u001b[39m\u001b[39m2\u001b[39m, engine\u001b[39m=\u001b[39m\u001b[39m'\u001b[39m\u001b[39mpython\u001b[39m\u001b[39m'\u001b[39m)\n\u001b[0;32m----> <a href='vscode-notebook-cell:/Users/anasofiacc/dev/respiration-sensor/sensor-streaming.ipynb#X15sZmlsZQ%3D%3D?line=6'>7</a>\u001b[0m data[\u001b[39mf\u001b[39m\u001b[39m\"\u001b[39m\u001b[39mAI\u001b[39m\u001b[39m{\u001b[39;00mchn\u001b[39m}\u001b[39;00m\u001b[39m_filtered\u001b[39m\u001b[39m\"\u001b[39m], _, _ \u001b[39m=\u001b[39m bp\u001b[39m.\u001b[39;49msignals\u001b[39m.\u001b[39;49mtools\u001b[39m.\u001b[39;49mfilter_signal(signal\u001b[39m=\u001b[39;49mdata[\u001b[39mf\u001b[39;49m\u001b[39m\"\u001b[39;49m\u001b[39mAI\u001b[39;49m\u001b[39m{\u001b[39;49;00mchn\u001b[39m}\u001b[39;49;00m\u001b[39m_raw\u001b[39;49m\u001b[39m\"\u001b[39;49m]\u001b[39m.\u001b[39;49mto_numpy(), ftype\u001b[39m=\u001b[39;49m\u001b[39m'\u001b[39;49m\u001b[39mFIR\u001b[39;49m\u001b[39m'\u001b[39;49m, band\u001b[39m=\u001b[39;49m\u001b[39m'\u001b[39;49m\u001b[39mlowpass\u001b[39;49m\u001b[39m'\u001b[39;49m, order\u001b[39m=\u001b[39;49m\u001b[39m8\u001b[39;49m, frequency\u001b[39m=\u001b[39;49m\u001b[39m1\u001b[39;49m, sampling_rate\u001b[39m=\u001b[39;49m\u001b[39m10.0\u001b[39;49m)\n\u001b[1;32m      <a href='vscode-notebook-cell:/Users/anasofiacc/dev/respiration-sensor/sensor-streaming.ipynb#X15sZmlsZQ%3D%3D?line=8'>9</a>\u001b[0m px\u001b[39m.\u001b[39mline(data, y\u001b[39m=\u001b[39m[\u001b[39mf\u001b[39m\u001b[39m\"\u001b[39m\u001b[39mAI\u001b[39m\u001b[39m{\u001b[39;00mchn\u001b[39m}\u001b[39;00m\u001b[39m_raw\u001b[39m\u001b[39m\"\u001b[39m, \u001b[39mf\u001b[39m\u001b[39m\"\u001b[39m\u001b[39mAI\u001b[39m\u001b[39m{\u001b[39;00mchn\u001b[39m}\u001b[39;00m\u001b[39m_filtered\u001b[39m\u001b[39m\"\u001b[39m], color_discrete_sequence\u001b[39m=\u001b[39mcolor_palette)\n",
                        "File \u001b[0;32m/opt/homebrew/Caskroom/miniforge/base/lib/python3.9/site-packages/biosppy/signals/tools.py:422\u001b[0m, in \u001b[0;36mfilter_signal\u001b[0;34m(signal, ftype, band, order, frequency, sampling_rate, **kwargs)\u001b[0m\n\u001b[1;32m    412\u001b[0m b, a \u001b[39m=\u001b[39m get_filter(\n\u001b[1;32m    413\u001b[0m     ftype\u001b[39m=\u001b[39mftype,\n\u001b[1;32m    414\u001b[0m     order\u001b[39m=\u001b[39morder,\n\u001b[0;32m   (...)\u001b[0m\n\u001b[1;32m    418\u001b[0m     \u001b[39m*\u001b[39m\u001b[39m*\u001b[39mkwargs\n\u001b[1;32m    419\u001b[0m )\n\u001b[1;32m    421\u001b[0m \u001b[39m# filter\u001b[39;00m\n\u001b[0;32m--> 422\u001b[0m filtered, _ \u001b[39m=\u001b[39m _filter_signal(b, a, signal, check_phase\u001b[39m=\u001b[39;49m\u001b[39mTrue\u001b[39;49;00m)\n\u001b[1;32m    424\u001b[0m \u001b[39m# output\u001b[39;00m\n\u001b[1;32m    425\u001b[0m params \u001b[39m=\u001b[39m {\n\u001b[1;32m    426\u001b[0m     \u001b[39m\"\u001b[39m\u001b[39mftype\u001b[39m\u001b[39m\"\u001b[39m: ftype,\n\u001b[1;32m    427\u001b[0m     \u001b[39m\"\u001b[39m\u001b[39morder\u001b[39m\u001b[39m\"\u001b[39m: order,\n\u001b[1;32m    428\u001b[0m     \u001b[39m\"\u001b[39m\u001b[39mfrequency\u001b[39m\u001b[39m\"\u001b[39m: frequency,\n\u001b[1;32m    429\u001b[0m     \u001b[39m\"\u001b[39m\u001b[39mband\u001b[39m\u001b[39m\"\u001b[39m: band,\n\u001b[1;32m    430\u001b[0m }\n",
                        "File \u001b[0;32m/opt/homebrew/Caskroom/miniforge/base/lib/python3.9/site-packages/biosppy/signals/tools.py:132\u001b[0m, in \u001b[0;36m_filter_signal\u001b[0;34m(b, a, signal, zi, check_phase, **kwargs)\u001b[0m\n\u001b[1;32m    130\u001b[0m zf \u001b[39m=\u001b[39m \u001b[39mNone\u001b[39;00m\n\u001b[1;32m    131\u001b[0m \u001b[39mif\u001b[39;00m check_phase:\n\u001b[0;32m--> 132\u001b[0m     filtered \u001b[39m=\u001b[39m ss\u001b[39m.\u001b[39;49mfiltfilt(b, a, signal, \u001b[39m*\u001b[39;49m\u001b[39m*\u001b[39;49mkwargs)\n\u001b[1;32m    133\u001b[0m \u001b[39melse\u001b[39;00m:\n\u001b[1;32m    134\u001b[0m     filtered \u001b[39m=\u001b[39m ss\u001b[39m.\u001b[39mlfilter(b, a, signal, \u001b[39m*\u001b[39m\u001b[39m*\u001b[39mkwargs)\n",
                        "File \u001b[0;32m/opt/homebrew/Caskroom/miniforge/base/lib/python3.9/site-packages/scipy/signal/_signaltools.py:4073\u001b[0m, in \u001b[0;36mfiltfilt\u001b[0;34m(b, a, x, axis, padtype, padlen, method, irlen)\u001b[0m\n\u001b[1;32m   4070\u001b[0m     \u001b[39mreturn\u001b[39;00m y\n\u001b[1;32m   4072\u001b[0m \u001b[39m# method == \"pad\"\u001b[39;00m\n\u001b[0;32m-> 4073\u001b[0m edge, ext \u001b[39m=\u001b[39m _validate_pad(padtype, padlen, x, axis,\n\u001b[1;32m   4074\u001b[0m                           ntaps\u001b[39m=\u001b[39;49m\u001b[39mmax\u001b[39;49m(\u001b[39mlen\u001b[39;49m(a), \u001b[39mlen\u001b[39;49m(b)))\n\u001b[1;32m   4076\u001b[0m \u001b[39m# Get the steady state of the filter's step response.\u001b[39;00m\n\u001b[1;32m   4077\u001b[0m zi \u001b[39m=\u001b[39m lfilter_zi(b, a)\n",
                        "File \u001b[0;32m/opt/homebrew/Caskroom/miniforge/base/lib/python3.9/site-packages/scipy/signal/_signaltools.py:4123\u001b[0m, in \u001b[0;36m_validate_pad\u001b[0;34m(padtype, padlen, x, axis, ntaps)\u001b[0m\n\u001b[1;32m   4121\u001b[0m \u001b[39m# x's 'axis' dimension must be bigger than edge.\u001b[39;00m\n\u001b[1;32m   4122\u001b[0m \u001b[39mif\u001b[39;00m x\u001b[39m.\u001b[39mshape[axis] \u001b[39m<\u001b[39m\u001b[39m=\u001b[39m edge:\n\u001b[0;32m-> 4123\u001b[0m     \u001b[39mraise\u001b[39;00m \u001b[39mValueError\u001b[39;00m(\u001b[39m\"\u001b[39m\u001b[39mThe length of the input vector x must be greater \u001b[39m\u001b[39m\"\u001b[39m\n\u001b[1;32m   4124\u001b[0m                      \u001b[39m\"\u001b[39m\u001b[39mthan padlen, which is \u001b[39m\u001b[39m%d\u001b[39;00m\u001b[39m.\u001b[39m\u001b[39m\"\u001b[39m \u001b[39m%\u001b[39m edge)\n\u001b[1;32m   4126\u001b[0m \u001b[39mif\u001b[39;00m padtype \u001b[39mis\u001b[39;00m \u001b[39mnot\u001b[39;00m \u001b[39mNone\u001b[39;00m \u001b[39mand\u001b[39;00m edge \u001b[39m>\u001b[39m \u001b[39m0\u001b[39m:\n\u001b[1;32m   4127\u001b[0m     \u001b[39m# Make an extension of length `edge` at each\u001b[39;00m\n\u001b[1;32m   4128\u001b[0m     \u001b[39m# end of the input array.\u001b[39;00m\n\u001b[1;32m   4129\u001b[0m     \u001b[39mif\u001b[39;00m padtype \u001b[39m==\u001b[39m \u001b[39m'\u001b[39m\u001b[39meven\u001b[39m\u001b[39m'\u001b[39m:\n",
                        "\u001b[0;31mValueError\u001b[0m: The length of the input vector x must be greater than padlen, which is 27."
                    ]
                }
            ],
            "source": [
                "import pandas as pd\n",
                "import biosppy as bp\n",
                "\n",
                "chn = \"1\"\n",
                "\n",
                "data = pd.read_csv(file_path, skiprows=1, header=0, delimiter=\"\\t\", skipfooter=2, engine='python')\n",
                "data[f\"AI{chn}_filtered\"], _, _ = bp.signals.tools.filter_signal(signal=data[f\"AI{chn}_raw\"].to_numpy(), ftype='FIR', band='lowpass', order=8, frequency=1, sampling_rate=10.0)\n",
                "\n",
                "px.line(data, y=[f\"AI{chn}_raw\", f\"AI{chn}_filtered\"], color_discrete_sequence=color_palette)"
            ]
        },
        {
            "cell_type": "markdown",
            "metadata": {},
            "source": [
                "### Analize distance between sensor and magnet (angle = 0º)"
            ]
        },
        {
            "cell_type": "markdown",
            "metadata": {},
            "source": [
                "##### Stream sensor data"
            ]
        },
        {
            "cell_type": "code",
            "execution_count": null,
            "metadata": {},
            "outputs": [],
            "source": [
                "sampling_rate = 10 #Hz\n",
                "\n",
                "now = datetime.now()\n",
                "file_path = f'./distance_{now.strftime(\"%d-%m-%Y_%H-%M-%S\")}.txt'\n",
                "\n",
                "stream(port='/dev/cu.usbmodem101', file_path=file_path, cutoff_freq=4, sampling_rate=sampling_rate)"
            ]
        },
        {
            "cell_type": "markdown",
            "metadata": {},
            "source": [
                "##### Plot data"
            ]
        },
        {
            "cell_type": "code",
            "execution_count": null,
            "metadata": {},
            "outputs": [],
            "source": [
                "#file_path = \"./distance_11-11-2022_15-38-35.txt\"\n",
                "annotation_labels = [f\"{d}mm\" for d in range(0, 20, 2)] + [\"21mm\"]\n",
                "\n",
                "data = pd.read_csv(file_path, names=[\"raw\", \"filtered\",\"annot\"], index_col=0) # in this case, the time column is set as the index\n",
                "annots_new, data = get_annot_data(data, annotation_labels=annotation_labels)\n",
                "\n",
                "plot_data(data, remove_nan=False, to_plot=[\"raw\", \"filtered\"])"
            ]
        },
        {
            "cell_type": "markdown",
            "metadata": {},
            "source": [
                "##### Make box-plot"
            ]
        },
        {
            "cell_type": "code",
            "execution_count": null,
            "metadata": {},
            "outputs": [],
            "source": [
                "plot_box(data, to_plot=\"filtered\", scaled=True)"
            ]
        },
        {
            "cell_type": "markdown",
            "metadata": {},
            "source": [
                "### Analize angle between sensor and magnet (distance = 0mm)"
            ]
        },
        {
            "cell_type": "markdown",
            "metadata": {},
            "source": [
                "##### Stream sensor data"
            ]
        },
        {
            "cell_type": "code",
            "execution_count": null,
            "metadata": {},
            "outputs": [],
            "source": [
                "sampling_rate = 10 #Hz\n",
                "\n",
                "now = datetime.now()\n",
                "file_path = f'./angle_{now.strftime(\"%d-%m-%Y_%H-%M-%S\")}.txt'\n",
                "\n",
                "stream(port='/dev/tty.usbserial-0001', file_path=file_path, cutoff_freq=4, sampling_rate=sampling_rate)"
            ]
        },
        {
            "cell_type": "markdown",
            "metadata": {},
            "source": [
                "##### Plot data"
            ]
        },
        {
            "cell_type": "code",
            "execution_count": null,
            "metadata": {},
            "outputs": [],
            "source": [
                "file_path = \"./angle_11-11-2022_15-52-30.txt\"\n",
                "annotation_labels = [f\"{a}º\" for a in range(0, 95, 10)]\n",
                "\n",
                "data = pd.read_csv(file_path, names=[\"raw\", \"filtered\",\"annot\"], index_col=0) # in this case, the time column is set as the index\n",
                "annots_new, data = get_annot_data(data, annotation_labels=annotation_labels)\n",
                "\n",
                "plot_data(data, remove_nan=True, to_plot=[\"raw\", \"filtered\"])"
            ]
        },
        {
            "cell_type": "markdown",
            "metadata": {},
            "source": [
                "##### Make box-plot"
            ]
        },
        {
            "cell_type": "code",
            "execution_count": null,
            "metadata": {},
            "outputs": [],
            "source": [
                "plot_box(data, to_plot=\"filtered\", scaled=True)"
            ]
        },
        {
            "cell_type": "code",
            "execution_count": null,
            "metadata": {},
            "outputs": [],
            "source": []
        }
    ],
    "metadata": {
        "kernelspec": {
            "display_name": "Python 3.9.7 ('base')",
            "language": "python",
            "name": "python3"
        },
        "language_info": {
            "codemirror_mode": {
                "name": "ipython",
                "version": 3
            },
            "file_extension": ".py",
            "mimetype": "text/x-python",
            "name": "python",
            "nbconvert_exporter": "python",
            "pygments_lexer": "ipython3",
            "version": "3.9.7"
        },
        "orig_nbformat": 4,
        "vscode": {
            "interpreter": {
                "hash": "c6e4e9f98eb68ad3b7c296f83d20e6de614cb42e90992a65aa266555a3137d0d"
            }
        }
    },
    "nbformat": 4,
    "nbformat_minor": 2
}
