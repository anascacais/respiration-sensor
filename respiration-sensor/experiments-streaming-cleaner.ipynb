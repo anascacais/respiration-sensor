{
 "cells": [
  {
   "attachments": {},
   "cell_type": "markdown",
   "metadata": {},
   "source": [
    "### Initialization"
   ]
  },
  {
   "cell_type": "code",
   "execution_count": 2,
   "metadata": {},
   "outputs": [],
   "source": [
    "# built-in\n",
    "import time\n",
    "from datetime import datetime\n",
    "import json\n",
    "import re\n",
    "\n",
    "# third-party\n",
    "import bitalino\n",
    "import serial\n",
    "import scientisst\n",
    "import numpy as np"
   ]
  },
  {
   "cell_type": "code",
   "execution_count": 3,
   "metadata": {},
   "outputs": [],
   "source": [
    "# Initiate variables\n",
    "\n",
    "timeout = 120\n",
    "batch_size = 100\n",
    "sampling_rate = 10\n",
    "\n",
    "arduino_pattern = re.compile(r'\\d+\\n') # pattern to make sure the message received from the serial port is in the format \"{value}\\n\"\n",
    "\n",
    "bitalino_args = {\"mac_address\": \"/dev/tty.BITalino-6E-27\", \"sampling_rate\": sampling_rate, \"channels\": [0], \"batch_size\": batch_size}\n",
    "scientisst_args = {\"mac_address\": \"/dev/cu.ScientISST-54-96\", \"sampling_rate\": sampling_rate, \"channels\": [1], \"batch_size\": batch_size}\n",
    "arduino_args = {\"port\": \"/dev/cu.usbmodem112401\", \"sampling_rate\": sampling_rate, \"batch_size\": batch_size}"
   ]
  },
  {
   "attachments": {},
   "cell_type": "markdown",
   "metadata": {},
   "source": [
    "### Define auxiliary functions"
   ]
  },
  {
   "cell_type": "code",
   "execution_count": 4,
   "metadata": {},
   "outputs": [
    {
     "name": "stdout",
     "output_type": "stream",
     "text": [
      "Chosen port is not available. Choose one of the following ports:\n",
      "    * cu.wlan-debug\n",
      "    * cu.Bluetooth-Incoming-Port\n",
      "    * cu.ScientISST-32-22\n",
      "    * cu.usbmodem112401\n",
      "    * cu.ScientISST-54-96\n"
     ]
    },
    {
     "data": {
      "text/plain": [
       "<__main__.SerialPortUnavailable at 0x103f8eeb0>"
      ]
     },
     "execution_count": 4,
     "metadata": {},
     "output_type": "execute_result"
    }
   ],
   "source": [
    "# Define SerialPortUnavailable exception\n",
    "from serial.tools import list_ports\n",
    "\n",
    "class SerialPortUnavailable():\n",
    "\n",
    "    def __init__(self):\n",
    "        print(\"Chosen port is not available. Choose one of the following ports:\")\n",
    "        for port in list_ports.comports():\n",
    "            print(f\"    * {port.name}\")\n",
    "\n",
    "\n",
    "SerialPortUnavailable()"
   ]
  },
  {
   "cell_type": "code",
   "execution_count": 5,
   "metadata": {},
   "outputs": [],
   "source": [
    "# Define class that hold all setup informations about the acquisition\n",
    "\n",
    "class Acquisition:\n",
    "\n",
    "    def __init__(self, start_time, file):\n",
    "        \n",
    "        self.sampling_rate = sampling_rate\n",
    "        self.keep_alive = True\n",
    "        self.devices_started = False\n",
    "        self.bitalino_args = bitalino_args\n",
    "        self.scientisst_args = scientisst_args\n",
    "        self.arduino_args = arduino_args\n",
    "        self.start_time = start_time\n",
    "        self.file = file"
   ]
  },
  {
   "cell_type": "code",
   "execution_count": 6,
   "metadata": {},
   "outputs": [],
   "source": [
    "# Define function that creates file header \n",
    "\n",
    "def get_header(acquisition):\n",
    "\n",
    "    scientisst_channels = \"\"\n",
    "    for channel in acquisition.scientisst_args[\"channels\"]:\n",
    "        scientisst_channels += f\"\\tscientisst_raw_AI{channel}\"\n",
    "    \n",
    "    bitalino_channels = \"\"\n",
    "    for channel in acquisition.bitalino_args[\"channels\"]:\n",
    "        bitalino_channels += f\"\\tbitalino_raw_A{channel}\"\n",
    "\n",
    "    return f\"#scientisst_nseq{scientisst_channels}bitalino_nseq{bitalino_channels}\\tarduino_raw\""
   ]
  },
  {
   "cell_type": "code",
   "execution_count": 7,
   "metadata": {},
   "outputs": [],
   "source": [
    "# Define Exceptions\n",
    "\n",
    "class TimeoutException(Exception):\n",
    "    \"   Connection attempt timed out\"\n",
    "    pass\n",
    "\n",
    "class ConnectionFailedException(Exception):\n",
    "    \"   Failed to connect to device\"\n",
    "    pass\n",
    "\n",
    "class UnknownDeviceException(Exception):\n",
    "    \"   Unknown device - please choose ScientISST, BITalino or Arduino\"\n",
    "    pass"
   ]
  },
  {
   "attachments": {},
   "cell_type": "markdown",
   "metadata": {},
   "source": [
    "### Define functions for device connection"
   ]
  },
  {
   "cell_type": "code",
   "execution_count": 8,
   "metadata": {},
   "outputs": [],
   "source": [
    "def connect_device(address, device_type):\n",
    "\n",
    "    device = None\n",
    "    init_connect_time = time.time()\n",
    "    print(f'Searching for {device_type}... {address}')\n",
    "\n",
    "    while (time.time() - init_connect_time) < timeout:\n",
    "\n",
    "        try:\n",
    "            if device_type == \"BITalino\":\n",
    "                device = bitalino.BITalino(address)\n",
    "                if device.macAddress:\n",
    "                    print(\"Connected!\")\n",
    "                    return device\n",
    "            elif device_type == \"ScientISST\":\n",
    "                device = scientisst.ScientISST(address)\n",
    "                if device.address:\n",
    "                    return device\n",
    "            elif device_type == \"Arduino\":\n",
    "                device = serial.Serial(address, baudrate=115200, timeout=0)\n",
    "                print(\"Connected!\")\n",
    "                return device\n",
    "            else:\n",
    "                time.sleep(0.1)\n",
    "                raise UnknownDeviceException\n",
    "\n",
    "        except Exception as e:\n",
    "            print(e)\n",
    "            continue\n",
    "\n",
    "    raise TimeoutException"
   ]
  },
  {
   "attachments": {},
   "cell_type": "markdown",
   "metadata": {},
   "source": [
    "### Define functions to start and read devices"
   ]
  },
  {
   "cell_type": "code",
   "execution_count": 9,
   "metadata": {},
   "outputs": [],
   "source": [
    "def start_devices(bitalino_device, scientisst_device, acquisition):\n",
    "\n",
    "    scientisst_device.start(sample_rate=acquisition.scientisst_args[\"sampling_rate\"], channels=acquisition.scientisst_args[\"channels\"])  \n",
    "    #bitalino_device.start(SamplingRate=acquisition.bitalino_args[\"sampling_rate\"], analogChannels=acquisition.bitalino_args[\"channels\"])\n",
    "    arduino_device = connect_device(arduino_args[\"port\"], \"Arduino\")\n",
    "    \n",
    "    return arduino_device"
   ]
  },
  {
   "cell_type": "code",
   "execution_count": 10,
   "metadata": {},
   "outputs": [],
   "source": [
    "def read_batch(bitalino_device, scientisst_device, arduino_device, acquisition):\n",
    "    \n",
    "    try: \n",
    "        \n",
    "        scientisst_data = scientisst_device.read(matrix=True)\n",
    "        scientisst_data = np.take(scientisst_data,[0]+[*range(-2, -len(acquisition.scientisst_args[\"channels\"])*2-2, -2)], axis=1)\n",
    "        #bitalino_data = bitalino_device.read(scientisst_data.shape[0])\n",
    "        #bitalino_data = np.take(bitalino_data,[0]+[*range(-1, -len(acquisition.bitalino_args[\"channels\"])-1, -1)], axis=1)\n",
    "\n",
    "        arduino_data = []\n",
    "        arduino_message = \"\"\n",
    "        match = None\n",
    "\n",
    "        while len(arduino_data) < scientisst_data.shape[0]:\n",
    "            arduino_bytes = arduino_device.readline().decode() # read message from arduino \n",
    "\n",
    "            if arduino_bytes != arduino_message:\n",
    "                arduino_message = arduino_message + arduino_bytes # in case the full line comes in different messages, concatenate it\n",
    "                match = arduino_pattern.search(arduino_message) # make sure the message received from the serial port is in the format \"{value}\\n\"\n",
    "\n",
    "            if match is not None: \n",
    "                arduino_data += [[int(match.group().strip())]]\n",
    "                arduino_message = \"\"\n",
    "                \n",
    "        #print(f\"bitalino data:\\n{bitalino_data}\")\n",
    "        #print(f\"\\n\\nscientisst data:\\n{scientisst_data}\")\n",
    "        #print(f\"\\n\\narduino data:\\n{np.array(arduino_data)}\")\n",
    "    \n",
    "        data = np.hstack((scientisst_data, np.array(arduino_data)))\n",
    "        print(f\"\\ndata: {data}\")\n",
    "\n",
    "        np.savetxt(acquisition.file, data, fmt='\\t'.join(['%d']*data.shape[1]))\n",
    "        \n",
    "    except Exception as e:\n",
    "        print(e)"
   ]
  },
  {
   "attachments": {},
   "cell_type": "markdown",
   "metadata": {},
   "source": [
    "### Main script"
   ]
  },
  {
   "cell_type": "code",
   "execution_count": 11,
   "metadata": {},
   "outputs": [
    {
     "name": "stdout",
     "output_type": "stream",
     "text": [
      "Searching for ScientISST... /dev/cu.ScientISST-54-96\n",
      "Connecting to /dev/cu.ScientISST-54-96...\n",
      "ScientISST version: 1.0\n",
      "ScientISST Board Vref: 1114\n",
      "ScientISST Board ADC Attenuation Mode: 0\n",
      "Connected!\n",
      "Searching for Arduino... /dev/cu.usbmodem112401\n",
      "Connected!\n",
      "\n",
      "data: [[   0 1778    0]\n",
      " [   1 1778    0]]\n",
      "\n",
      "data: [[   2 1776    0]\n",
      " [   3 1776    0]]\n",
      "\n",
      "data: [[   4 1779    0]\n",
      " [   5 1779    0]]\n",
      "\n",
      "data: [[   6 1779    0]\n",
      " [   7 1778    0]]\n",
      "\n",
      "data: [[   8 1780    0]\n",
      " [   9 1779    0]]\n",
      "\n",
      "data: [[  10 1779    0]\n",
      " [  11 1776    0]]\n",
      "\n",
      "data: [[  12 1777    0]\n",
      " [  13 1777    0]]\n",
      "\n",
      "data: [[  14 1777    0]\n",
      " [  15 1777    0]]\n",
      "\n",
      "data: [[   0 1776    0]\n",
      " [   1 1776    0]]\n",
      "\n",
      "data: [[   2 1777    0]\n",
      " [   3 1776    0]]\n",
      "\n",
      "data: [[   4 1777    0]\n",
      " [   5 1777    0]]\n",
      "\n",
      "data: [[   6 1779    0]\n",
      " [   7 1781    0]]\n",
      "\n",
      "data: [[   8 1776    0]\n",
      " [   9 1776    0]]\n",
      "\n",
      "data: [[  10 1778    0]\n",
      " [  11 1778    0]]\n",
      "\n",
      "data: [[  12 1782    0]\n",
      " [  13 1777    0]]\n",
      "\n",
      "data: [[  14 1777    0]\n",
      " [  15 1777    0]]\n",
      "\n",
      "data: [[   0 1776    0]\n",
      " [   1 1776    0]]\n",
      "\n",
      "data: [[   2 1776    0]\n",
      " [   3 1776    0]]\n",
      "\n",
      "data: [[   4 1777    0]\n",
      " [   5 1777    0]]\n",
      "\n",
      "data: [[   6 1777    0]\n",
      " [   7 1777    0]]\n",
      "\n",
      "\n",
      "Acquisition terminated\n"
     ]
    }
   ],
   "source": [
    "## Initialization\n",
    "\n",
    "try: \n",
    "    \n",
    "    now = datetime.now()\n",
    "    file = open(f\"/Users/anasofiacc/Library/CloudStorage/OneDrive-UniversidadedeLisboa/PhD/Clynx project/Respiration sensor/magnetometer/data/sample_{now.strftime('%d-%m-%Y_%H-%M-%S')}.txt\",\"w\")\n",
    "    acquisition = Acquisition(time.time(), file)\n",
    "\n",
    "    file.write(get_header(acquisition))\n",
    "\n",
    "    # Connect devices\n",
    "    scientisst_device = connect_device(scientisst_args[\"mac_address\"], \"ScientISST\")\n",
    "    bitalino_device = None #bitalino_device = connect_device(bitalino_args[\"mac_address\"], \"BITalino\")\n",
    "    arduino_device = None # Connection to this device happens at a later stage\n",
    "\n",
    "except KeyboardInterrupt:\n",
    "    print(f\"Script terminated before acquisition was started\")\n",
    "    acquisition.keep_alive = False\n",
    "except ConnectionFailedException:\n",
    "    acquisition.keep_alive = False\n",
    "except UnknownDeviceException:\n",
    "    acquisition.keep_alive = False\n",
    "except Exception as e:\n",
    "    print(e)\n",
    "    acquisition.keep_alive = False\n",
    "\n",
    "\n",
    "## Device streaming\n",
    "\n",
    "try: \n",
    "\n",
    "    while acquisition.keep_alive:\n",
    "        \n",
    "        if not acquisition.devices_started: \n",
    "            # If the devices have not yet started acquiring or they are paused, start acquisition\n",
    "            try: # TODO: timeout para isto\n",
    "                arduino_device = start_devices(bitalino_device, scientisst_device, acquisition)\n",
    "                acquisition.devices_started = True\n",
    "\n",
    "            except Exception as e:\n",
    "                print(e)\n",
    "                pass\n",
    "        \n",
    "        else:\n",
    "            try:\n",
    "                read_batch(bitalino_device, scientisst_device, arduino_device, acquisition)\n",
    "            except KeyboardInterrupt:\n",
    "                acquisition.keep_alive = False\n",
    "                print(f\"\\n\\nAcquisition terminated\")\n",
    "\n",
    "            except:\n",
    "                #bitalino_device.stop()\n",
    "                scientisst_device.stop()\n",
    "                arduino_device.close()\n",
    "                acquisition.devices_started = False\n",
    "                pass\n",
    "\n",
    "\n",
    "except KeyboardInterrupt:\n",
    "    print(f\"\\n\\nAcquisition terminated\")\n",
    "    \n",
    "except Exception as e:\n",
    "    print(e)\n",
    "    #bitalino_device.stop()\n",
    "    scientisst_device.stop()\n",
    "    arduino_device.close()\n",
    "    file.close()\n",
    "\n",
    "#bitalino_device.stop()\n",
    "scientisst_device.stop()\n",
    "arduino_device.close()\n",
    "file.close()\n"
   ]
  },
  {
   "cell_type": "markdown",
   "metadata": {},
   "source": []
  }
 ],
 "metadata": {
  "kernelspec": {
   "display_name": "base",
   "language": "python",
   "name": "python3"
  },
  "language_info": {
   "codemirror_mode": {
    "name": "ipython",
    "version": 3
   },
   "file_extension": ".py",
   "mimetype": "text/x-python",
   "name": "python",
   "nbconvert_exporter": "python",
   "pygments_lexer": "ipython3",
   "version": "3.9.7 | packaged by conda-forge | (default, Sep 29 2021, 19:24:02) \n[Clang 11.1.0 ]"
  },
  "orig_nbformat": 4,
  "vscode": {
   "interpreter": {
    "hash": "c6e4e9f98eb68ad3b7c296f83d20e6de614cb42e90992a65aa266555a3137d0d"
   }
  }
 },
 "nbformat": 4,
 "nbformat_minor": 2
}
